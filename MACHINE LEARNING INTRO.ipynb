{
 "cells": [
  {
   "cell_type": "markdown",
   "id": "918f9e73",
   "metadata": {},
   "source": [
    "# Supervised Machine Learning\n",
    "\n",
    "\n",
    "1- classification -- should be descrete (1,0)-- binary classification \n",
    "2- regression -- continous descrete (2.45, 5.67)"
   ]
  },
  {
   "cell_type": "code",
   "execution_count": 21,
   "id": "2dd78f0f",
   "metadata": {},
   "outputs": [],
   "source": [
    "import numpy as np\n",
    "import pandas as pd\n",
    "from sklearn.model_selection import train_test_split"
   ]
  },
  {
   "cell_type": "markdown",
   "id": "6b14d838",
   "metadata": {},
   "source": [
    "# Regression"
   ]
  },
  {
   "cell_type": "code",
   "execution_count": 2,
   "id": "8d737633",
   "metadata": {},
   "outputs": [],
   "source": [
    "path = \"C:/Users/USER/OneDrive/Documents/LASOP DATA ANALYTICS/MACHINE LEARNING/data/\""
   ]
  },
  {
   "cell_type": "code",
   "execution_count": 3,
   "id": "ec3dbe8a",
   "metadata": {},
   "outputs": [
    {
     "data": {
      "text/html": [
       "<div>\n",
       "<style scoped>\n",
       "    .dataframe tbody tr th:only-of-type {\n",
       "        vertical-align: middle;\n",
       "    }\n",
       "\n",
       "    .dataframe tbody tr th {\n",
       "        vertical-align: top;\n",
       "    }\n",
       "\n",
       "    .dataframe thead th {\n",
       "        text-align: right;\n",
       "    }\n",
       "</style>\n",
       "<table border=\"1\" class=\"dataframe\">\n",
       "  <thead>\n",
       "    <tr style=\"text-align: right;\">\n",
       "      <th></th>\n",
       "      <th>R&amp;D Spend</th>\n",
       "      <th>Administration</th>\n",
       "      <th>Marketing Spend</th>\n",
       "      <th>State</th>\n",
       "      <th>Profit</th>\n",
       "    </tr>\n",
       "  </thead>\n",
       "  <tbody>\n",
       "    <tr>\n",
       "      <th>0</th>\n",
       "      <td>165349.20</td>\n",
       "      <td>136897.80</td>\n",
       "      <td>471784.10</td>\n",
       "      <td>New York</td>\n",
       "      <td>192261.83</td>\n",
       "    </tr>\n",
       "    <tr>\n",
       "      <th>1</th>\n",
       "      <td>162597.70</td>\n",
       "      <td>151377.59</td>\n",
       "      <td>443898.53</td>\n",
       "      <td>California</td>\n",
       "      <td>191792.06</td>\n",
       "    </tr>\n",
       "    <tr>\n",
       "      <th>2</th>\n",
       "      <td>153441.51</td>\n",
       "      <td>101145.55</td>\n",
       "      <td>407934.54</td>\n",
       "      <td>Florida</td>\n",
       "      <td>191050.39</td>\n",
       "    </tr>\n",
       "    <tr>\n",
       "      <th>3</th>\n",
       "      <td>144372.41</td>\n",
       "      <td>118671.85</td>\n",
       "      <td>383199.62</td>\n",
       "      <td>New York</td>\n",
       "      <td>182901.99</td>\n",
       "    </tr>\n",
       "    <tr>\n",
       "      <th>4</th>\n",
       "      <td>142107.34</td>\n",
       "      <td>91391.77</td>\n",
       "      <td>366168.42</td>\n",
       "      <td>Florida</td>\n",
       "      <td>166187.94</td>\n",
       "    </tr>\n",
       "  </tbody>\n",
       "</table>\n",
       "</div>"
      ],
      "text/plain": [
       "   R&D Spend  Administration  Marketing Spend       State     Profit\n",
       "0  165349.20       136897.80        471784.10    New York  192261.83\n",
       "1  162597.70       151377.59        443898.53  California  191792.06\n",
       "2  153441.51       101145.55        407934.54     Florida  191050.39\n",
       "3  144372.41       118671.85        383199.62    New York  182901.99\n",
       "4  142107.34        91391.77        366168.42     Florida  166187.94"
      ]
     },
     "execution_count": 3,
     "metadata": {},
     "output_type": "execute_result"
    }
   ],
   "source": [
    "#we are using regression\n",
    "startups = pd.read_csv(path + \"50_startups.csv\")\n",
    "startups.head()"
   ]
  },
  {
   "cell_type": "code",
   "execution_count": null,
   "id": "f740a6a5",
   "metadata": {},
   "outputs": [],
   "source": []
  },
  {
   "cell_type": "markdown",
   "id": "b928e20e",
   "metadata": {},
   "source": [
    "# Classification"
   ]
  },
  {
   "cell_type": "code",
   "execution_count": 4,
   "id": "bf47d1ad",
   "metadata": {},
   "outputs": [],
   "source": [
    "path = \"C:/Users/USER/OneDrive/Documents/LASOP DATA ANALYTICS\\MACHINE LEARNING/data/\""
   ]
  },
  {
   "cell_type": "code",
   "execution_count": 6,
   "id": "50bb7163",
   "metadata": {},
   "outputs": [
    {
     "data": {
      "text/html": [
       "<div>\n",
       "<style scoped>\n",
       "    .dataframe tbody tr th:only-of-type {\n",
       "        vertical-align: middle;\n",
       "    }\n",
       "\n",
       "    .dataframe tbody tr th {\n",
       "        vertical-align: top;\n",
       "    }\n",
       "\n",
       "    .dataframe thead th {\n",
       "        text-align: right;\n",
       "    }\n",
       "</style>\n",
       "<table border=\"1\" class=\"dataframe\">\n",
       "  <thead>\n",
       "    <tr style=\"text-align: right;\">\n",
       "      <th></th>\n",
       "      <th>User ID</th>\n",
       "      <th>Gender</th>\n",
       "      <th>Age</th>\n",
       "      <th>EstimatedSalary</th>\n",
       "      <th>Purchased</th>\n",
       "    </tr>\n",
       "  </thead>\n",
       "  <tbody>\n",
       "    <tr>\n",
       "      <th>0</th>\n",
       "      <td>15624510</td>\n",
       "      <td>Male</td>\n",
       "      <td>19</td>\n",
       "      <td>19000</td>\n",
       "      <td>0</td>\n",
       "    </tr>\n",
       "    <tr>\n",
       "      <th>1</th>\n",
       "      <td>15810944</td>\n",
       "      <td>Male</td>\n",
       "      <td>35</td>\n",
       "      <td>20000</td>\n",
       "      <td>0</td>\n",
       "    </tr>\n",
       "    <tr>\n",
       "      <th>2</th>\n",
       "      <td>15668575</td>\n",
       "      <td>Female</td>\n",
       "      <td>26</td>\n",
       "      <td>43000</td>\n",
       "      <td>0</td>\n",
       "    </tr>\n",
       "    <tr>\n",
       "      <th>3</th>\n",
       "      <td>15603246</td>\n",
       "      <td>Female</td>\n",
       "      <td>27</td>\n",
       "      <td>57000</td>\n",
       "      <td>0</td>\n",
       "    </tr>\n",
       "    <tr>\n",
       "      <th>4</th>\n",
       "      <td>15804002</td>\n",
       "      <td>Male</td>\n",
       "      <td>19</td>\n",
       "      <td>76000</td>\n",
       "      <td>0</td>\n",
       "    </tr>\n",
       "  </tbody>\n",
       "</table>\n",
       "</div>"
      ],
      "text/plain": [
       "    User ID  Gender  Age  EstimatedSalary  Purchased\n",
       "0  15624510    Male   19            19000          0\n",
       "1  15810944    Male   35            20000          0\n",
       "2  15668575  Female   26            43000          0\n",
       "3  15603246  Female   27            57000          0\n",
       "4  15804002    Male   19            76000          0"
      ]
     },
     "execution_count": 6,
     "metadata": {},
     "output_type": "execute_result"
    }
   ],
   "source": [
    "#we are using classification model here cos of target is a decrete output\n",
    "Social_network = pd.read_csv(path + \"Social_Network_Ads.csv\")\n",
    "Social_network.head()"
   ]
  },
  {
   "cell_type": "code",
   "execution_count": null,
   "id": "f33206cc",
   "metadata": {},
   "outputs": [],
   "source": []
  },
  {
   "cell_type": "code",
   "execution_count": 15,
   "id": "53244374",
   "metadata": {},
   "outputs": [],
   "source": [
    "#separate the feature from the target\n",
    "X = Social_network.drop(columns = [\"User ID\"]) #dropping the user id column\n",
    "y = X.pop(\"Purchased\") #target"
   ]
  },
  {
   "cell_type": "code",
   "execution_count": 14,
   "id": "2ae2c37f",
   "metadata": {},
   "outputs": [
    {
     "data": {
      "text/plain": [
       "0      0\n",
       "1      0\n",
       "2      0\n",
       "3      0\n",
       "4      0\n",
       "      ..\n",
       "395    1\n",
       "396    1\n",
       "397    1\n",
       "398    0\n",
       "399    1\n",
       "Name: Purchased, Length: 400, dtype: int64"
      ]
     },
     "execution_count": 14,
     "metadata": {},
     "output_type": "execute_result"
    }
   ],
   "source": [
    "y"
   ]
  },
  {
   "cell_type": "markdown",
   "id": "926330c5",
   "metadata": {},
   "source": [
    "# Step Two (if neccessary)"
   ]
  },
  {
   "cell_type": "code",
   "execution_count": 17,
   "id": "f2dfc837",
   "metadata": {},
   "outputs": [],
   "source": [
    "# transformation\n",
    "\n",
    "# norminal variable e.g male and fenale\n",
    "# ordinal variable e.g good better best"
   ]
  },
  {
   "cell_type": "raw",
   "id": "203fa49d",
   "metadata": {},
   "source": [
    "good      0\n",
    "better    1\n",
    "best      2\n"
   ]
  },
  {
   "cell_type": "code",
   "execution_count": null,
   "id": "a37a03f0",
   "metadata": {},
   "outputs": [],
   "source": [
    "STATE\n",
    "lagos\n",
    "oyo\n",
    "ondo"
   ]
  },
  {
   "cell_type": "markdown",
   "id": "59972f7d",
   "metadata": {},
   "source": [
    "state_lagos  state_oyo  state_ondo\n",
    "      1            0         0\n",
    "      0            1         0\n",
    "      0            0         1"
   ]
  },
  {
   "cell_type": "code",
   "execution_count": 20,
   "id": "7b59355b",
   "metadata": {},
   "outputs": [],
   "source": [
    "## transforming the gender column\n",
    "X = pd.get_dummies(X, columns = [\"Gender\"])"
   ]
  },
  {
   "cell_type": "code",
   "execution_count": null,
   "id": "11685790",
   "metadata": {},
   "outputs": [],
   "source": []
  },
  {
   "cell_type": "markdown",
   "id": "c89e53c5",
   "metadata": {},
   "source": [
    "# Step Three"
   ]
  },
  {
   "cell_type": "code",
   "execution_count": null,
   "id": "3c92b376",
   "metadata": {},
   "outputs": [],
   "source": [
    "# splitting data into train ad validation"
   ]
  },
  {
   "cell_type": "code",
   "execution_count": 25,
   "id": "81b98308",
   "metadata": {},
   "outputs": [],
   "source": [
    "x_train, x_val, y_train, y_val = train_test_split(X, y, test_size = 0.1, random_state = 42)"
   ]
  },
  {
   "cell_type": "code",
   "execution_count": null,
   "id": "726597bd",
   "metadata": {},
   "outputs": [],
   "source": []
  },
  {
   "cell_type": "markdown",
   "id": "a21d79d7",
   "metadata": {},
   "source": [
    "# Step Four"
   ]
  },
  {
   "cell_type": "code",
   "execution_count": 30,
   "id": "2a6cc536",
   "metadata": {},
   "outputs": [],
   "source": [
    "# build the model \n",
    "from sklearn.tree import DecisionTreeClassifier #import algorithm\n",
    "dt = DecisionTreeClassifier() # create the instance of the algorithm\n",
    "model1 = dt.fit(x_train, y_train)"
   ]
  },
  {
   "cell_type": "code",
   "execution_count": 29,
   "id": "c94d5959",
   "metadata": {},
   "outputs": [],
   "source": [
    "# build model 2\n",
    "from sklearn.linear_model import LogisticRegression\n",
    "\n",
    "lr = LogisticRegression()\n",
    "model2 = lr.fit(x_train, y_train)"
   ]
  },
  {
   "cell_type": "code",
   "execution_count": null,
   "id": "c7bd1eb8",
   "metadata": {},
   "outputs": [],
   "source": []
  },
  {
   "cell_type": "markdown",
   "id": "fc2d0015",
   "metadata": {},
   "source": [
    "# Step Five"
   ]
  },
  {
   "cell_type": "code",
   "execution_count": null,
   "id": "8ddaf52f",
   "metadata": {},
   "outputs": [],
   "source": [
    "# Evaluation"
   ]
  },
  {
   "cell_type": "code",
   "execution_count": 33,
   "id": "8460f433",
   "metadata": {},
   "outputs": [],
   "source": [
    "prediction1 = model1.predict(x_val)"
   ]
  },
  {
   "cell_type": "code",
   "execution_count": 32,
   "id": "882e7fcf",
   "metadata": {},
   "outputs": [
    {
     "data": {
      "text/plain": [
       "209    0\n",
       "280    1\n",
       "33     0\n",
       "210    1\n",
       "93     0\n",
       "84     0\n",
       "329    1\n",
       "94     0\n",
       "266    0\n",
       "126    0\n",
       "9      0\n",
       "361    1\n",
       "56     0\n",
       "72     0\n",
       "132    0\n",
       "42     0\n",
       "278    1\n",
       "376    0\n",
       "231    0\n",
       "385    1\n",
       "77     0\n",
       "15     0\n",
       "391    1\n",
       "271    1\n",
       "0      0\n",
       "396    1\n",
       "114    0\n",
       "225    0\n",
       "262    1\n",
       "104    0\n",
       "395    1\n",
       "193    0\n",
       "261    1\n",
       "57     0\n",
       "232    1\n",
       "116    0\n",
       "113    0\n",
       "342    0\n",
       "158    0\n",
       "141    0\n",
       "Name: Purchased, dtype: int64"
      ]
     },
     "execution_count": 32,
     "metadata": {},
     "output_type": "execute_result"
    }
   ],
   "source": [
    "y_val"
   ]
  },
  {
   "cell_type": "code",
   "execution_count": null,
   "id": "6922bab7",
   "metadata": {},
   "outputs": [],
   "source": []
  }
 ],
 "metadata": {
  "kernelspec": {
   "display_name": "Python 3 (ipykernel)",
   "language": "python",
   "name": "python3"
  },
  "language_info": {
   "codemirror_mode": {
    "name": "ipython",
    "version": 3
   },
   "file_extension": ".py",
   "mimetype": "text/x-python",
   "name": "python",
   "nbconvert_exporter": "python",
   "pygments_lexer": "ipython3",
   "version": "3.9.13"
  }
 },
 "nbformat": 4,
 "nbformat_minor": 5
}
